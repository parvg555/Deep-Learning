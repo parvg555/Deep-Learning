{
 "cells": [
  {
   "cell_type": "code",
   "execution_count": 2,
   "metadata": {},
   "outputs": [],
   "source": [
    "import numpy as np"
   ]
  },
  {
   "cell_type": "code",
   "execution_count": 3,
   "metadata": {},
   "outputs": [
    {
     "name": "stdout",
     "output_type": "stream",
     "text": [
      "[1 2 3 4]\n"
     ]
    }
   ],
   "source": [
    "a = np.array([1,2,3,4])\n",
    "print(a)"
   ]
  },
  {
   "cell_type": "code",
   "execution_count": 12,
   "metadata": {},
   "outputs": [
    {
     "name": "stdout",
     "output_type": "stream",
     "text": [
      "Vectorized Dot Product: 13.711929321289062ms\n"
     ]
    }
   ],
   "source": [
    "import time\n",
    "\n",
    "a=np.random.rand(10000000)\n",
    "b=np.random.rand(10000000)\n",
    "\n",
    "tic = time.time()\n",
    "c=np.dot(a,b)\n",
    "toc = time.time()\n",
    "\n",
    "print(\"Vectorized Dot Product: \" + str(1000*(toc-tic)) + \"ms\")"
   ]
  },
  {
   "cell_type": "code",
   "execution_count": 13,
   "metadata": {},
   "outputs": [
    {
     "name": "stdout",
     "output_type": "stream",
     "text": [
      "FOR LOOP: 3182.191848754883ms\n"
     ]
    }
   ],
   "source": [
    "c = 0\n",
    "tic = time.time()\n",
    "\n",
    "for i in range(10000000):\n",
    "    c+=a[i]*b[i]\n",
    "\n",
    "toc = time.time()\n",
    "\n",
    "print(\"FOR LOOP: \"+ str(1000*(toc-tic)) + \"ms\")"
   ]
  },
  {
   "cell_type": "code",
   "execution_count": 14,
   "metadata": {},
   "outputs": [
    {
     "name": "stdout",
     "output_type": "stream",
     "text": [
      "NON VECTORIZED TIME: 4903.825998306274ms\n"
     ]
    }
   ],
   "source": [
    "import math\n",
    "\n",
    "v = np.random.rand(10000000)\n",
    "\n",
    "tic = time.time()\n",
    "u = np.zeros((10000000,1))\n",
    "for i in range(10000000):\n",
    "    u[i] = math.exp(v[i])\n",
    "toc = time.time()\n",
    "\n",
    "print(\"NON VECTORIZED TIME: \" + str(1000*(toc-tic)) + \"ms\")"
   ]
  },
  {
   "cell_type": "code",
   "execution_count": 15,
   "metadata": {},
   "outputs": [
    {
     "name": "stdout",
     "output_type": "stream",
     "text": [
      "Vectorized time: 103.31892967224121ms\n"
     ]
    }
   ],
   "source": [
    "tic = time.time()\n",
    "u = np.exp(v)\n",
    "toc = time.time()\n",
    "print(\"Vectorized time: \" + str(1000*(toc-tic)) + \"ms\")"
   ]
  },
  {
   "cell_type": "code",
   "execution_count": 18,
   "metadata": {},
   "outputs": [
    {
     "name": "stdout",
     "output_type": "stream",
     "text": [
      "[[4.04852782 4.15334814 4.25379977 2.38448677 3.74593508 3.42184498\n",
      "  4.17757627 3.1276271  4.54374983 3.82151794 3.81661484 2.95194298\n",
      "  5.50788055 3.25414629 3.82644181 3.76065377 4.0767989  3.29853484\n",
      "  3.20539142 4.39651818 3.89382739 3.99711889 2.78744087 3.99632281\n",
      "  4.10509693 4.32063059 4.01543014 5.2502588  4.48315195 4.34028822\n",
      "  3.42110771 3.06282048 3.87556057 3.32573478 3.5284194  3.00991242\n",
      "  3.88898663 4.01078703 3.48888992 3.20021594 3.55059244 4.84419336\n",
      "  3.63554336 4.00250208 3.06084579 4.46934451 2.66322779 3.42055194\n",
      "  3.22642706 2.80791752 3.28979142 3.9717406  3.29649383 3.58613381\n",
      "  3.66110852 2.46573165 4.63408163 4.21376772 3.63346712 3.29339689\n",
      "  4.23865526 3.81024095 3.39773001 3.83191616 4.37301205 2.80679171\n",
      "  3.82273474 3.98575058 3.80476864 3.47163491 4.12334756 4.35507868\n",
      "  3.95998136 3.03720251 4.82707246 4.07257896 4.48553366 3.49719946\n",
      "  4.0321976  2.99661694 3.46120776 3.11467424 3.10704053 4.17628773\n",
      "  2.96274498 4.40033029 2.92782623 3.15781346 2.75076834 3.61038902\n",
      "  4.9937167  4.88986596 3.40788716 4.47117166 3.59432957 4.99618765\n",
      "  3.58697684 3.79398598 3.12996636 3.35760373]]\n",
      "TIME TAKEN: 5.238056182861328ms\n"
     ]
    }
   ],
   "source": [
    "# using vectorization in logistic regression\n",
    "# z(i) = Wt*x(i) + b\n",
    "\n",
    "nx = 10  # number of dependency variables\n",
    "m = 100 # number of training datasets\n",
    "b = np.random.rand()\n",
    "\n",
    "w = np.random.rand(nx,1)\n",
    "X = np.random.rand(nx,m)\n",
    "\n",
    "# Z = Wt*X + [b b b b....b]\n",
    "\n",
    "tic = time.time()\n",
    "Z = np.dot(w.T,X) + b\n",
    "toc = time.time()\n",
    "\n",
    "print(Z)\n",
    "print(\"TIME TAKEN: \" + str(1000*(toc-tic)) + \"ms\")"
   ]
  },
  {
   "cell_type": "code",
   "execution_count": 19,
   "metadata": {},
   "outputs": [
    {
     "name": "stdout",
     "output_type": "stream",
     "text": [
      "[[ 56.    0.    4.4  68. ]\n",
      " [  1.2 104.   52.    8. ]\n",
      " [  1.8 135.   99.    0.9]]\n"
     ]
    }
   ],
   "source": [
    "# Broadcasting Example\n",
    "\n",
    "A = np.array([[56.0,0.0,4.4,68.0],\n",
    "              [1.2,104.0,52.0,8.0],\n",
    "              [1.8,135.0,99.0,0.9]])\n",
    "print(A)"
   ]
  },
  {
   "cell_type": "code",
   "execution_count": 20,
   "metadata": {},
   "outputs": [
    {
     "name": "stdout",
     "output_type": "stream",
     "text": [
      "[ 59.  239.  155.4  76.9]\n"
     ]
    }
   ],
   "source": [
    "cal = A.sum(axis = 0)\n",
    "print(cal)"
   ]
  },
  {
   "cell_type": "code",
   "execution_count": 22,
   "metadata": {},
   "outputs": [
    {
     "name": "stdout",
     "output_type": "stream",
     "text": [
      "[[94.91525424  0.          2.83140283 88.42652796]\n",
      " [ 2.03389831 43.51464435 33.46203346 10.40312094]\n",
      " [ 3.05084746 56.48535565 63.70656371  1.17035111]]\n"
     ]
    }
   ],
   "source": [
    "percentage = 100*A/cal\n",
    "print(percentage)"
   ]
  }
 ],
 "metadata": {
  "interpreter": {
   "hash": "916dbcbb3f70747c44a77c7bcd40155683ae19c65e1c03b4aa3499c5328201f1"
  },
  "kernelspec": {
   "display_name": "Python 3.9.7 64-bit",
   "language": "python",
   "name": "python3"
  },
  "language_info": {
   "codemirror_mode": {
    "name": "ipython",
    "version": 3
   },
   "file_extension": ".py",
   "mimetype": "text/x-python",
   "name": "python",
   "nbconvert_exporter": "python",
   "pygments_lexer": "ipython3",
   "version": "3.9.7"
  },
  "orig_nbformat": 4
 },
 "nbformat": 4,
 "nbformat_minor": 2
}
